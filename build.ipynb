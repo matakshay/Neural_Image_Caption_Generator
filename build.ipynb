{
  "nbformat": 4,
  "nbformat_minor": 0,
  "metadata": {
    "colab": {
      "name": "build.ipynb",
      "provenance": [],
      "collapsed_sections": []
    },
    "kernelspec": {
      "name": "python3",
      "display_name": "Python 3"
    }
  },
  "cells": [
    {
      "cell_type": "markdown",
      "metadata": {
        "id": "y0jiFo1BBH2u",
        "colab_type": "text"
      },
      "source": [
        "#### Build a vocabulary of the most commonly occurring words in the caption text"
      ]
    },
    {
      "cell_type": "code",
      "metadata": {
        "id": "vBB9Ll2HA39Q",
        "colab_type": "code",
        "colab": {}
      },
      "source": [
        "import json\n",
        "import collections"
      ],
      "execution_count": 0,
      "outputs": []
    },
    {
      "cell_type": "code",
      "metadata": {
        "id": "86Tme1m1DRWh",
        "colab_type": "code",
        "colab": {}
      },
      "source": [
        "# Read the file tokens_clean.txt and store the cleaned captions in a dictionary\n",
        "content = None\n",
        "\n",
        "with open (\"Neural_Image_Caption_Generator/data/textFiles/tokens_clean.txt\", 'r') as file:\n",
        "    content = file.read()\n",
        "\n",
        "json_acceptable_string = content.replace(\"'\", \"\\\"\")\n",
        "content = json.loads(json_acceptable_string)"
      ],
      "execution_count": 0,
      "outputs": []
    },
    {
      "cell_type": "code",
      "metadata": {
        "id": "oagj043m0RF7",
        "colab_type": "code",
        "colab": {
          "base_uri": "https://localhost:8080/",
          "height": 35
        },
        "outputId": "a4042baf-b0d1-4ac4-f3c1-c7709c9bcdfb"
      },
      "source": [
        "print(type(content))"
      ],
      "execution_count": 14,
      "outputs": [
        {
          "output_type": "stream",
          "text": [
            "<class 'dict'>\n"
          ],
          "name": "stdout"
        }
      ]
    },
    {
      "cell_type": "code",
      "metadata": {
        "id": "hu5zr0PF0Tmf",
        "colab_type": "code",
        "colab": {
          "base_uri": "https://localhost:8080/",
          "height": 35
        },
        "outputId": "03bde1e3-82d0-4479-da41-2411409ff823"
      },
      "source": [
        "# Build the vocabulary\n",
        "\n",
        "vocab = set()\n",
        "for key in content.keys():\n",
        "    for sentence in content[key]:\n",
        "        vocab.update(sentence.split())\n",
        "\n",
        "print(\"Vocab size = %d\" %len(vocab))"
      ],
      "execution_count": 15,
      "outputs": [
        {
          "output_type": "stream",
          "text": [
            "Vocab size = 8441\n"
          ],
          "name": "stdout"
        }
      ]
    },
    {
      "cell_type": "code",
      "metadata": {
        "id": "mJj07-us1nHO",
        "colab_type": "code",
        "colab": {
          "base_uri": "https://localhost:8080/",
          "height": 35
        },
        "outputId": "6bbc53a9-4563-48f2-c3d7-828d0a8f5806"
      },
      "source": [
        "total_words = []\n",
        "\n",
        "for key in content.keys():\n",
        "    for caption in content[key]:\n",
        "        for i in caption.split():\n",
        "            total_words.append(i)\n",
        "\n",
        "print(\"Total Words = %d\" %len(total_words))"
      ],
      "execution_count": 16,
      "outputs": [
        {
          "output_type": "stream",
          "text": [
            "Total Words = 437466\n"
          ],
          "name": "stdout"
        }
      ]
    },
    {
      "cell_type": "code",
      "metadata": {
        "id": "_iSvMykj2U5p",
        "colab_type": "code",
        "colab": {
          "base_uri": "https://localhost:8080/",
          "height": 35
        },
        "outputId": "4978fe91-3e63-4f8f-f58e-319cecf0126b"
      },
      "source": [
        "# Compute the frequency of occurrence of each word\n",
        "\n",
        "counter = collections.Counter(total_words)\n",
        "freq_cnt = dict(counter)\n",
        "\n",
        "print(len(freq_cnt.keys()))"
      ],
      "execution_count": 17,
      "outputs": [
        {
          "output_type": "stream",
          "text": [
            "8441\n"
          ],
          "name": "stdout"
        }
      ]
    },
    {
      "cell_type": "code",
      "metadata": {
        "id": "RS6z377m2lba",
        "colab_type": "code",
        "colab": {
          "base_uri": "https://localhost:8080/",
          "height": 35
        },
        "outputId": "1c88fca7-6010-447f-ec3f-4cfb844edb6d"
      },
      "source": [
        "# Sort the dictionary according to frequency of occurrence\n",
        "\n",
        "sorted_freq_cnt = sorted(freq_cnt.items(), reverse=True, key=lambda x:x[1])\n",
        "\n",
        "#Filter off those words which occur less than the threshold\n",
        "threshold = 5\n",
        "sorted_freq_cnt = [x for x in sorted_freq_cnt if x[1]>threshold]\n",
        "total_words = [x[0] for x in sorted_freq_cnt]\n",
        "\n",
        "print(len(total_words))"
      ],
      "execution_count": 18,
      "outputs": [
        {
          "output_type": "stream",
          "text": [
            "2644\n"
          ],
          "name": "stdout"
        }
      ]
    },
    {
      "cell_type": "markdown",
      "metadata": {
        "id": "YMR7OwXUJ-Sc",
        "colab_type": "text"
      },
      "source": [
        "#### Prepare train and test data"
      ]
    },
    {
      "cell_type": "code",
      "metadata": {
        "id": "RlYAnylP4M-7",
        "colab_type": "code",
        "colab": {}
      },
      "source": [
        "# Read training and testing image names\n",
        "\n",
        "train_file_data = \"\"\n",
        "test_file_data = \"\"\n",
        "\n",
        "with open (\"Neural_Image_Caption_Generator/data/textFiles/trainImages.txt\", 'r') as file:\n",
        "    train_file_data = file.read()\n",
        "\n",
        "with open (\"Neural_Image_Caption_Generator/data/textFiles/testImages.txt\", 'r') as file:\n",
        "    test_file_data = file.read()"
      ],
      "execution_count": 0,
      "outputs": []
    },
    {
      "cell_type": "code",
      "metadata": {
        "id": "ym0EQ-dcHlll",
        "colab_type": "code",
        "colab": {}
      },
      "source": [
        "# Obtain a list of train and test images\n",
        "train_data = [img_file_name for img_file_name in train_file_data.split(\"\\n\")[:-1]]\n",
        "test_data = [img_file_name for img_file_name in test_file_data.split(\"\\n\")[:-1]]\n",
        "\n",
        "# Obtain image ID from image file name\n",
        "train_data = [image.split(\".\")[0] for image in train_data]\n",
        "test_data = [image.split(\".\")[0] for image in test_data]"
      ],
      "execution_count": 0,
      "outputs": []
    },
    {
      "cell_type": "code",
      "metadata": {
        "id": "zSmjcfwQIn1i",
        "colab_type": "code",
        "colab": {
          "base_uri": "https://localhost:8080/",
          "height": 104
        },
        "outputId": "00c4216d-0a6a-4d5f-871a-5e6d07d86ee5"
      },
      "source": [
        "train_data[:5]"
      ],
      "execution_count": 25,
      "outputs": [
        {
          "output_type": "execute_result",
          "data": {
            "text/plain": [
              "['2513260012_03d33305cf',\n",
              " '2903617548_d3e38d7f88',\n",
              " '3338291921_fe7ae0c8f8',\n",
              " '488416045_1c6d903fe0',\n",
              " '2644326817_8f45080b87']"
            ]
          },
          "metadata": {
            "tags": []
          },
          "execution_count": 25
        }
      ]
    },
    {
      "cell_type": "code",
      "metadata": {
        "id": "e_LFtjHyI8KL",
        "colab_type": "code",
        "colab": {}
      },
      "source": [
        "# For each imageID in train_data, store its captions in a dictionary \n",
        "\n",
        "train_content = {}\n",
        "\n",
        "for imageID in train_data:\n",
        "    train_content[imageID] = []\n",
        "    for caption in content[imageID]:\n",
        "        # Add a start sequence token in the beginning and an end sequence token at the end\n",
        "        cap_to_append = \"startseq \" + caption + \" endseq\"\n",
        "        train_content[imageID].append(cap_to_append)"
      ],
      "execution_count": 0,
      "outputs": []
    },
    {
      "cell_type": "code",
      "metadata": {
        "id": "eKIPDcpMJOIN",
        "colab_type": "code",
        "colab": {
          "base_uri": "https://localhost:8080/",
          "height": 124
        },
        "outputId": "b1438cb2-86b7-45b3-c8c6-6fecd5e725a2"
      },
      "source": [
        "train_content['1007320043_627395c3d8']"
      ],
      "execution_count": 28,
      "outputs": [
        {
          "output_type": "execute_result",
          "data": {
            "text/plain": [
              "['startseq a child playing on a rope net  endseq',\n",
              " 'startseq a little girl climbing on red roping  endseq',\n",
              " 'startseq a little girl in pink climbs a rope bridge at the park  endseq',\n",
              " 'startseq a small child grips onto the red ropes at the playground  endseq',\n",
              " 'startseq the small child climbs on a red ropes on a playground  endseq']"
            ]
          },
          "metadata": {
            "tags": []
          },
          "execution_count": 28
        }
      ]
    },
    {
      "cell_type": "code",
      "metadata": {
        "id": "kuGU6xSCJzOr",
        "colab_type": "code",
        "colab": {}
      },
      "source": [
        ""
      ],
      "execution_count": 0,
      "outputs": []
    }
  ]
}