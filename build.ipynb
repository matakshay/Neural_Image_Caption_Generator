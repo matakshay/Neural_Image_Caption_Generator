{
  "nbformat": 4,
  "nbformat_minor": 0,
  "metadata": {
    "colab": {
      "name": "build.ipynb",
      "provenance": [],
      "collapsed_sections": []
    },
    "kernelspec": {
      "name": "python3",
      "display_name": "Python 3"
    }
  },
  "cells": [
    {
      "cell_type": "markdown",
      "metadata": {
        "id": "y0jiFo1BBH2u",
        "colab_type": "text"
      },
      "source": [
        "#### Build a vocabulary of the most commonly occurring words in the caption text"
      ]
    },
    {
      "cell_type": "code",
      "metadata": {
        "id": "vBB9Ll2HA39Q",
        "colab_type": "code",
        "colab": {}
      },
      "source": [
        "import json\n",
        "import collections"
      ],
      "execution_count": 0,
      "outputs": []
    },
    {
      "cell_type": "code",
      "metadata": {
        "id": "86Tme1m1DRWh",
        "colab_type": "code",
        "colab": {}
      },
      "source": [
        "# Read the file tokens_clean.txt and store the cleaned captions in a dictionary\n",
        "content = None\n",
        "\n",
        "with open (\"Neural_Image_Caption_Generator/data/textFiles/tokens_clean.txt\", 'r') as file:\n",
        "    content = file.read()\n",
        "\n",
        "json_acceptable_string = content.replace(\"'\", \"\\\"\")\n",
        "content = json.loads(json_acceptable_string)"
      ],
      "execution_count": 0,
      "outputs": []
    },
    {
      "cell_type": "code",
      "metadata": {
        "id": "oagj043m0RF7",
        "colab_type": "code",
        "colab": {
          "base_uri": "https://localhost:8080/",
          "height": 35
        },
        "outputId": "6aafa958-496e-4fbb-a85c-4bb723cddfba"
      },
      "source": [
        "print(type(content))"
      ],
      "execution_count": 4,
      "outputs": [
        {
          "output_type": "stream",
          "text": [
            "<class 'dict'>\n"
          ],
          "name": "stdout"
        }
      ]
    },
    {
      "cell_type": "code",
      "metadata": {
        "id": "hu5zr0PF0Tmf",
        "colab_type": "code",
        "colab": {
          "base_uri": "https://localhost:8080/",
          "height": 35
        },
        "outputId": "a2495d67-b9bd-4653-a3b5-5b0e989b2e04"
      },
      "source": [
        "# Build the vocabulary\n",
        "\n",
        "vocab = set()\n",
        "for key in content.keys():\n",
        "    for sentence in content[key]:\n",
        "        vocab.update(sentence.split())\n",
        "\n",
        "print(\"Vocab size = %d\" %len(vocab))"
      ],
      "execution_count": 5,
      "outputs": [
        {
          "output_type": "stream",
          "text": [
            "Vocab size = 8441\n"
          ],
          "name": "stdout"
        }
      ]
    },
    {
      "cell_type": "code",
      "metadata": {
        "id": "mJj07-us1nHO",
        "colab_type": "code",
        "colab": {
          "base_uri": "https://localhost:8080/",
          "height": 35
        },
        "outputId": "24e95790-75aa-4d65-e341-dd7b639b2895"
      },
      "source": [
        "total_words = []\n",
        "\n",
        "for key in content.keys():\n",
        "    for caption in content[key]:\n",
        "        for i in caption.split():\n",
        "            total_words.append(i)\n",
        "\n",
        "print(\"Total Words = %d\" %len(total_words))"
      ],
      "execution_count": 6,
      "outputs": [
        {
          "output_type": "stream",
          "text": [
            "Total Words = 437466\n"
          ],
          "name": "stdout"
        }
      ]
    },
    {
      "cell_type": "code",
      "metadata": {
        "id": "_iSvMykj2U5p",
        "colab_type": "code",
        "colab": {
          "base_uri": "https://localhost:8080/",
          "height": 35
        },
        "outputId": "4fd9cd94-2071-4b5f-b23d-1c769718ab0c"
      },
      "source": [
        "# Compute the frequency of occurrence of each word\n",
        "\n",
        "counter = collections.Counter(total_words)\n",
        "freq_cnt = dict(counter)\n",
        "\n",
        "print(len(freq_cnt.keys()))"
      ],
      "execution_count": 8,
      "outputs": [
        {
          "output_type": "stream",
          "text": [
            "8441\n"
          ],
          "name": "stdout"
        }
      ]
    },
    {
      "cell_type": "code",
      "metadata": {
        "id": "RS6z377m2lba",
        "colab_type": "code",
        "colab": {
          "base_uri": "https://localhost:8080/",
          "height": 35
        },
        "outputId": "631abdc0-b8c6-4cc5-c074-f836b0e49525"
      },
      "source": [
        "# Sort the dictionary according to frequency of occurrence\n",
        "\n",
        "sorted_freq_cnt = sorted(freq_cnt.items(), reverse=True, key=lambda x:x[1])\n",
        "\n",
        "#Filter off those words which occur less than the threshold\n",
        "threshold = 5\n",
        "sorted_freq_cnt = [x for x in sorted_freq_cnt if x[1]>threshold]\n",
        "total_words = [x[0] for x in sorted_freq_cnt]\n",
        "\n",
        "print(len(total_words))"
      ],
      "execution_count": 10,
      "outputs": [
        {
          "output_type": "stream",
          "text": [
            "2644\n"
          ],
          "name": "stdout"
        }
      ]
    },
    {
      "cell_type": "code",
      "metadata": {
        "id": "RlYAnylP4M-7",
        "colab_type": "code",
        "colab": {}
      },
      "source": [
        ""
      ],
      "execution_count": 0,
      "outputs": []
    }
  ]
}