{
  "nbformat": 4,
  "nbformat_minor": 0,
  "metadata": {
    "colab": {
      "name": "build.ipynb",
      "provenance": [],
      "collapsed_sections": []
    },
    "kernelspec": {
      "name": "python3",
      "display_name": "Python 3"
    },
    "accelerator": "GPU"
  },
  "cells": [
    {
      "cell_type": "markdown",
      "metadata": {
        "id": "e9gqu7A_-xQ1",
        "colab_type": "text"
      },
      "source": [
        "# Neural Image Caption Generator\n",
        "##### I build a Deep Learning model using Keras, for genarating English caption text for any given image"
      ]
    },
    {
      "cell_type": "markdown",
      "metadata": {
        "id": "y0jiFo1BBH2u",
        "colab_type": "text"
      },
      "source": [
        "#### Build a vocabulary of the most commonly occurring words in the caption text"
      ]
    },
    {
      "cell_type": "code",
      "metadata": {
        "id": "86Tme1m1DRWh",
        "colab_type": "code",
        "colab": {}
      },
      "source": [
        "# Read the file tokens_clean.txt and store the cleaned captions in a dictionary\n",
        "import json\n",
        "\n",
        "content = None\n",
        "\n",
        "with open (\"Neural_Image_Caption_Generator/data/textFiles/tokens_clean.txt\", 'r') as file:\n",
        "    content = file.read()\n",
        "\n",
        "json_acceptable_string = content.replace(\"'\", \"\\\"\")\n",
        "content = json.loads(json_acceptable_string)"
      ],
      "execution_count": null,
      "outputs": []
    },
    {
      "cell_type": "code",
      "metadata": {
        "id": "oagj043m0RF7",
        "colab_type": "code",
        "colab": {
          "base_uri": "https://localhost:8080/",
          "height": 34
        },
        "outputId": "5d393e8e-8296-43a9-f002-f00627423194"
      },
      "source": [
        "print(type(content))"
      ],
      "execution_count": null,
      "outputs": [
        {
          "output_type": "stream",
          "text": [
            "<class 'dict'>\n"
          ],
          "name": "stdout"
        }
      ]
    },
    {
      "cell_type": "code",
      "metadata": {
        "id": "hu5zr0PF0Tmf",
        "colab_type": "code",
        "colab": {
          "base_uri": "https://localhost:8080/",
          "height": 34
        },
        "outputId": "838a172d-a055-4bba-a699-e9d700e8e8f5"
      },
      "source": [
        "# Build the vocabulary\n",
        "\n",
        "vocab = set()\n",
        "for key in content.keys():\n",
        "    for sentence in content[key]:\n",
        "        vocab.update(sentence.split())\n",
        "\n",
        "print(\"Vocab size = %d\" %len(vocab))"
      ],
      "execution_count": null,
      "outputs": [
        {
          "output_type": "stream",
          "text": [
            "Vocab size = 8441\n"
          ],
          "name": "stdout"
        }
      ]
    },
    {
      "cell_type": "code",
      "metadata": {
        "id": "mJj07-us1nHO",
        "colab_type": "code",
        "colab": {
          "base_uri": "https://localhost:8080/",
          "height": 34
        },
        "outputId": "55161e32-7f8f-430c-b8f0-e956ca170a7d"
      },
      "source": [
        "total_words = []\n",
        "\n",
        "for key in content.keys():\n",
        "    for caption in content[key]:\n",
        "        for i in caption.split():\n",
        "            total_words.append(i)\n",
        "\n",
        "print(\"Total Words = %d\" %len(total_words))"
      ],
      "execution_count": null,
      "outputs": [
        {
          "output_type": "stream",
          "text": [
            "Total Words = 437466\n"
          ],
          "name": "stdout"
        }
      ]
    },
    {
      "cell_type": "code",
      "metadata": {
        "id": "_iSvMykj2U5p",
        "colab_type": "code",
        "colab": {
          "base_uri": "https://localhost:8080/",
          "height": 34
        },
        "outputId": "bd4f0210-0f9b-4316-d1a5-4eac1218469d"
      },
      "source": [
        "# Compute the frequency of occurrence of each word\n",
        "import collections\n",
        "\n",
        "counter = collections.Counter(total_words)\n",
        "freq_cnt = dict(counter)\n",
        "\n",
        "print(len(freq_cnt.keys()))"
      ],
      "execution_count": null,
      "outputs": [
        {
          "output_type": "stream",
          "text": [
            "8441\n"
          ],
          "name": "stdout"
        }
      ]
    },
    {
      "cell_type": "code",
      "metadata": {
        "id": "RS6z377m2lba",
        "colab_type": "code",
        "colab": {
          "base_uri": "https://localhost:8080/",
          "height": 34
        },
        "outputId": "8075e278-cc8c-4203-ff0c-0d0938f0cb78"
      },
      "source": [
        "# Sort the dictionary according to frequency of occurrence\n",
        "\n",
        "sorted_freq_cnt = sorted(freq_cnt.items(), reverse=True, key=lambda x:x[1])\n",
        "\n",
        "#Filter off those words which occur less than the threshold\n",
        "threshold = 5\n",
        "sorted_freq_cnt = [x for x in sorted_freq_cnt if x[1]>threshold]\n",
        "total_words = [x[0] for x in sorted_freq_cnt]\n",
        "\n",
        "print(len(total_words))"
      ],
      "execution_count": null,
      "outputs": [
        {
          "output_type": "stream",
          "text": [
            "2644\n"
          ],
          "name": "stdout"
        }
      ]
    },
    {
      "cell_type": "markdown",
      "metadata": {
        "id": "YMR7OwXUJ-Sc",
        "colab_type": "text"
      },
      "source": [
        "#### Prepare train and test data"
      ]
    },
    {
      "cell_type": "code",
      "metadata": {
        "id": "RlYAnylP4M-7",
        "colab_type": "code",
        "colab": {}
      },
      "source": [
        "# Read training and testing image names\n",
        "\n",
        "train_file_data = \"\"\n",
        "test_file_data = \"\"\n",
        "\n",
        "with open (\"Neural_Image_Caption_Generator/data/textFiles/trainImages.txt\", 'r') as file:\n",
        "    train_file_data = file.read()\n",
        "\n",
        "with open (\"Neural_Image_Caption_Generator/data/textFiles/testImages.txt\", 'r') as file:\n",
        "    test_file_data = file.read()"
      ],
      "execution_count": null,
      "outputs": []
    },
    {
      "cell_type": "code",
      "metadata": {
        "id": "ym0EQ-dcHlll",
        "colab_type": "code",
        "colab": {}
      },
      "source": [
        "# Obtain a list of train and test images\n",
        "train_data = [img_file_name for img_file_name in train_file_data.split(\"\\n\")[:-1]]\n",
        "test_data = [img_file_name for img_file_name in test_file_data.split(\"\\n\")[:-1]]\n",
        "\n",
        "# Obtain image ID from image file name\n",
        "train_data = [image.split(\".\")[0] for image in train_data]\n",
        "test_data = [image.split(\".\")[0] for image in test_data]"
      ],
      "execution_count": null,
      "outputs": []
    },
    {
      "cell_type": "code",
      "metadata": {
        "id": "zSmjcfwQIn1i",
        "colab_type": "code",
        "colab": {
          "base_uri": "https://localhost:8080/",
          "height": 102
        },
        "outputId": "bdd8ca02-c389-4ab7-8dba-8da0196f15e5"
      },
      "source": [
        "train_data[:5]"
      ],
      "execution_count": null,
      "outputs": [
        {
          "output_type": "execute_result",
          "data": {
            "text/plain": [
              "['2513260012_03d33305cf',\n",
              " '2903617548_d3e38d7f88',\n",
              " '3338291921_fe7ae0c8f8',\n",
              " '488416045_1c6d903fe0',\n",
              " '2644326817_8f45080b87']"
            ]
          },
          "metadata": {
            "tags": []
          },
          "execution_count": 11
        }
      ]
    },
    {
      "cell_type": "code",
      "metadata": {
        "id": "e_LFtjHyI8KL",
        "colab_type": "code",
        "colab": {}
      },
      "source": [
        "# For each imageID in train_data, store its captions in a dictionary \n",
        "\n",
        "train_content = {}\n",
        "\n",
        "for imageID in train_data:\n",
        "    train_content[imageID] = []\n",
        "    for caption in content[imageID]:\n",
        "        # Add a start sequence token in the beginning and an end sequence token at the end\n",
        "        cap_to_append = \"startseq \" + caption + \" endseq\"\n",
        "        train_content[imageID].append(cap_to_append)"
      ],
      "execution_count": null,
      "outputs": []
    },
    {
      "cell_type": "code",
      "metadata": {
        "id": "eKIPDcpMJOIN",
        "colab_type": "code",
        "colab": {
          "base_uri": "https://localhost:8080/",
          "height": 102
        },
        "outputId": "b743a691-61e3-4aaf-8a8c-a4a5fe018ac0"
      },
      "source": [
        "train_content['1007320043_627395c3d8']"
      ],
      "execution_count": null,
      "outputs": [
        {
          "output_type": "execute_result",
          "data": {
            "text/plain": [
              "['startseq a child playing on a rope net  endseq',\n",
              " 'startseq a little girl climbing on red roping  endseq',\n",
              " 'startseq a little girl in pink climbs a rope bridge at the park  endseq',\n",
              " 'startseq a small child grips onto the red ropes at the playground  endseq',\n",
              " 'startseq the small child climbs on a red ropes on a playground  endseq']"
            ]
          },
          "metadata": {
            "tags": []
          },
          "execution_count": 13
        }
      ]
    },
    {
      "cell_type": "markdown",
      "metadata": {
        "id": "E6RqXZjqXYNw",
        "colab_type": "text"
      },
      "source": [
        "### Transfer Learning"
      ]
    },
    {
      "cell_type": "markdown",
      "metadata": {
        "id": "PeeOPvEeXeWX",
        "colab_type": "text"
      },
      "source": [
        "#### Extract features from Image using a ResNet50 Architecture"
      ]
    },
    {
      "cell_type": "code",
      "metadata": {
        "id": "kuGU6xSCJzOr",
        "colab_type": "code",
        "colab": {
          "base_uri": "https://localhost:8080/",
          "height": 68
        },
        "outputId": "f60881db-2252-4104-e44f-c07b3d11da31"
      },
      "source": [
        "from keras.applications.resnet50 import ResNet50, preprocess_input, decode_predictions\n",
        "\n",
        "model = ResNet50(weights = 'imagenet', input_shape = (224, 224, 3))"
      ],
      "execution_count": null,
      "outputs": [
        {
          "output_type": "stream",
          "text": [
            "Using TensorFlow backend.\n"
          ],
          "name": "stderr"
        },
        {
          "output_type": "stream",
          "text": [
            "Downloading data from https://github.com/fchollet/deep-learning-models/releases/download/v0.2/resnet50_weights_tf_dim_ordering_tf_kernels.h5\n",
            "102858752/102853048 [==============================] - 3s 0us/step\n"
          ],
          "name": "stdout"
        }
      ]
    },
    {
      "cell_type": "code",
      "metadata": {
        "id": "EeRHZAI3Xdw2",
        "colab_type": "code",
        "colab": {
          "base_uri": "https://localhost:8080/",
          "height": 6443
        },
        "outputId": "0b59bc0e-bf5e-4f49-80a0-a2448c4417ec"
      },
      "source": [
        "model.summary()"
      ],
      "execution_count": null,
      "outputs": [
        {
          "output_type": "stream",
          "text": [
            "Model: \"resnet50\"\n",
            "__________________________________________________________________________________________________\n",
            "Layer (type)                    Output Shape         Param #     Connected to                     \n",
            "==================================================================================================\n",
            "input_1 (InputLayer)            (None, 224, 224, 3)  0                                            \n",
            "__________________________________________________________________________________________________\n",
            "conv1_pad (ZeroPadding2D)       (None, 230, 230, 3)  0           input_1[0][0]                    \n",
            "__________________________________________________________________________________________________\n",
            "conv1 (Conv2D)                  (None, 112, 112, 64) 9472        conv1_pad[0][0]                  \n",
            "__________________________________________________________________________________________________\n",
            "bn_conv1 (BatchNormalization)   (None, 112, 112, 64) 256         conv1[0][0]                      \n",
            "__________________________________________________________________________________________________\n",
            "activation_1 (Activation)       (None, 112, 112, 64) 0           bn_conv1[0][0]                   \n",
            "__________________________________________________________________________________________________\n",
            "pool1_pad (ZeroPadding2D)       (None, 114, 114, 64) 0           activation_1[0][0]               \n",
            "__________________________________________________________________________________________________\n",
            "max_pooling2d_1 (MaxPooling2D)  (None, 56, 56, 64)   0           pool1_pad[0][0]                  \n",
            "__________________________________________________________________________________________________\n",
            "res2a_branch2a (Conv2D)         (None, 56, 56, 64)   4160        max_pooling2d_1[0][0]            \n",
            "__________________________________________________________________________________________________\n",
            "bn2a_branch2a (BatchNormalizati (None, 56, 56, 64)   256         res2a_branch2a[0][0]             \n",
            "__________________________________________________________________________________________________\n",
            "activation_2 (Activation)       (None, 56, 56, 64)   0           bn2a_branch2a[0][0]              \n",
            "__________________________________________________________________________________________________\n",
            "res2a_branch2b (Conv2D)         (None, 56, 56, 64)   36928       activation_2[0][0]               \n",
            "__________________________________________________________________________________________________\n",
            "bn2a_branch2b (BatchNormalizati (None, 56, 56, 64)   256         res2a_branch2b[0][0]             \n",
            "__________________________________________________________________________________________________\n",
            "activation_3 (Activation)       (None, 56, 56, 64)   0           bn2a_branch2b[0][0]              \n",
            "__________________________________________________________________________________________________\n",
            "res2a_branch2c (Conv2D)         (None, 56, 56, 256)  16640       activation_3[0][0]               \n",
            "__________________________________________________________________________________________________\n",
            "res2a_branch1 (Conv2D)          (None, 56, 56, 256)  16640       max_pooling2d_1[0][0]            \n",
            "__________________________________________________________________________________________________\n",
            "bn2a_branch2c (BatchNormalizati (None, 56, 56, 256)  1024        res2a_branch2c[0][0]             \n",
            "__________________________________________________________________________________________________\n",
            "bn2a_branch1 (BatchNormalizatio (None, 56, 56, 256)  1024        res2a_branch1[0][0]              \n",
            "__________________________________________________________________________________________________\n",
            "add_1 (Add)                     (None, 56, 56, 256)  0           bn2a_branch2c[0][0]              \n",
            "                                                                 bn2a_branch1[0][0]               \n",
            "__________________________________________________________________________________________________\n",
            "activation_4 (Activation)       (None, 56, 56, 256)  0           add_1[0][0]                      \n",
            "__________________________________________________________________________________________________\n",
            "res2b_branch2a (Conv2D)         (None, 56, 56, 64)   16448       activation_4[0][0]               \n",
            "__________________________________________________________________________________________________\n",
            "bn2b_branch2a (BatchNormalizati (None, 56, 56, 64)   256         res2b_branch2a[0][0]             \n",
            "__________________________________________________________________________________________________\n",
            "activation_5 (Activation)       (None, 56, 56, 64)   0           bn2b_branch2a[0][0]              \n",
            "__________________________________________________________________________________________________\n",
            "res2b_branch2b (Conv2D)         (None, 56, 56, 64)   36928       activation_5[0][0]               \n",
            "__________________________________________________________________________________________________\n",
            "bn2b_branch2b (BatchNormalizati (None, 56, 56, 64)   256         res2b_branch2b[0][0]             \n",
            "__________________________________________________________________________________________________\n",
            "activation_6 (Activation)       (None, 56, 56, 64)   0           bn2b_branch2b[0][0]              \n",
            "__________________________________________________________________________________________________\n",
            "res2b_branch2c (Conv2D)         (None, 56, 56, 256)  16640       activation_6[0][0]               \n",
            "__________________________________________________________________________________________________\n",
            "bn2b_branch2c (BatchNormalizati (None, 56, 56, 256)  1024        res2b_branch2c[0][0]             \n",
            "__________________________________________________________________________________________________\n",
            "add_2 (Add)                     (None, 56, 56, 256)  0           bn2b_branch2c[0][0]              \n",
            "                                                                 activation_4[0][0]               \n",
            "__________________________________________________________________________________________________\n",
            "activation_7 (Activation)       (None, 56, 56, 256)  0           add_2[0][0]                      \n",
            "__________________________________________________________________________________________________\n",
            "res2c_branch2a (Conv2D)         (None, 56, 56, 64)   16448       activation_7[0][0]               \n",
            "__________________________________________________________________________________________________\n",
            "bn2c_branch2a (BatchNormalizati (None, 56, 56, 64)   256         res2c_branch2a[0][0]             \n",
            "__________________________________________________________________________________________________\n",
            "activation_8 (Activation)       (None, 56, 56, 64)   0           bn2c_branch2a[0][0]              \n",
            "__________________________________________________________________________________________________\n",
            "res2c_branch2b (Conv2D)         (None, 56, 56, 64)   36928       activation_8[0][0]               \n",
            "__________________________________________________________________________________________________\n",
            "bn2c_branch2b (BatchNormalizati (None, 56, 56, 64)   256         res2c_branch2b[0][0]             \n",
            "__________________________________________________________________________________________________\n",
            "activation_9 (Activation)       (None, 56, 56, 64)   0           bn2c_branch2b[0][0]              \n",
            "__________________________________________________________________________________________________\n",
            "res2c_branch2c (Conv2D)         (None, 56, 56, 256)  16640       activation_9[0][0]               \n",
            "__________________________________________________________________________________________________\n",
            "bn2c_branch2c (BatchNormalizati (None, 56, 56, 256)  1024        res2c_branch2c[0][0]             \n",
            "__________________________________________________________________________________________________\n",
            "add_3 (Add)                     (None, 56, 56, 256)  0           bn2c_branch2c[0][0]              \n",
            "                                                                 activation_7[0][0]               \n",
            "__________________________________________________________________________________________________\n",
            "activation_10 (Activation)      (None, 56, 56, 256)  0           add_3[0][0]                      \n",
            "__________________________________________________________________________________________________\n",
            "res3a_branch2a (Conv2D)         (None, 28, 28, 128)  32896       activation_10[0][0]              \n",
            "__________________________________________________________________________________________________\n",
            "bn3a_branch2a (BatchNormalizati (None, 28, 28, 128)  512         res3a_branch2a[0][0]             \n",
            "__________________________________________________________________________________________________\n",
            "activation_11 (Activation)      (None, 28, 28, 128)  0           bn3a_branch2a[0][0]              \n",
            "__________________________________________________________________________________________________\n",
            "res3a_branch2b (Conv2D)         (None, 28, 28, 128)  147584      activation_11[0][0]              \n",
            "__________________________________________________________________________________________________\n",
            "bn3a_branch2b (BatchNormalizati (None, 28, 28, 128)  512         res3a_branch2b[0][0]             \n",
            "__________________________________________________________________________________________________\n",
            "activation_12 (Activation)      (None, 28, 28, 128)  0           bn3a_branch2b[0][0]              \n",
            "__________________________________________________________________________________________________\n",
            "res3a_branch2c (Conv2D)         (None, 28, 28, 512)  66048       activation_12[0][0]              \n",
            "__________________________________________________________________________________________________\n",
            "res3a_branch1 (Conv2D)          (None, 28, 28, 512)  131584      activation_10[0][0]              \n",
            "__________________________________________________________________________________________________\n",
            "bn3a_branch2c (BatchNormalizati (None, 28, 28, 512)  2048        res3a_branch2c[0][0]             \n",
            "__________________________________________________________________________________________________\n",
            "bn3a_branch1 (BatchNormalizatio (None, 28, 28, 512)  2048        res3a_branch1[0][0]              \n",
            "__________________________________________________________________________________________________\n",
            "add_4 (Add)                     (None, 28, 28, 512)  0           bn3a_branch2c[0][0]              \n",
            "                                                                 bn3a_branch1[0][0]               \n",
            "__________________________________________________________________________________________________\n",
            "activation_13 (Activation)      (None, 28, 28, 512)  0           add_4[0][0]                      \n",
            "__________________________________________________________________________________________________\n",
            "res3b_branch2a (Conv2D)         (None, 28, 28, 128)  65664       activation_13[0][0]              \n",
            "__________________________________________________________________________________________________\n",
            "bn3b_branch2a (BatchNormalizati (None, 28, 28, 128)  512         res3b_branch2a[0][0]             \n",
            "__________________________________________________________________________________________________\n",
            "activation_14 (Activation)      (None, 28, 28, 128)  0           bn3b_branch2a[0][0]              \n",
            "__________________________________________________________________________________________________\n",
            "res3b_branch2b (Conv2D)         (None, 28, 28, 128)  147584      activation_14[0][0]              \n",
            "__________________________________________________________________________________________________\n",
            "bn3b_branch2b (BatchNormalizati (None, 28, 28, 128)  512         res3b_branch2b[0][0]             \n",
            "__________________________________________________________________________________________________\n",
            "activation_15 (Activation)      (None, 28, 28, 128)  0           bn3b_branch2b[0][0]              \n",
            "__________________________________________________________________________________________________\n",
            "res3b_branch2c (Conv2D)         (None, 28, 28, 512)  66048       activation_15[0][0]              \n",
            "__________________________________________________________________________________________________\n",
            "bn3b_branch2c (BatchNormalizati (None, 28, 28, 512)  2048        res3b_branch2c[0][0]             \n",
            "__________________________________________________________________________________________________\n",
            "add_5 (Add)                     (None, 28, 28, 512)  0           bn3b_branch2c[0][0]              \n",
            "                                                                 activation_13[0][0]              \n",
            "__________________________________________________________________________________________________\n",
            "activation_16 (Activation)      (None, 28, 28, 512)  0           add_5[0][0]                      \n",
            "__________________________________________________________________________________________________\n",
            "res3c_branch2a (Conv2D)         (None, 28, 28, 128)  65664       activation_16[0][0]              \n",
            "__________________________________________________________________________________________________\n",
            "bn3c_branch2a (BatchNormalizati (None, 28, 28, 128)  512         res3c_branch2a[0][0]             \n",
            "__________________________________________________________________________________________________\n",
            "activation_17 (Activation)      (None, 28, 28, 128)  0           bn3c_branch2a[0][0]              \n",
            "__________________________________________________________________________________________________\n",
            "res3c_branch2b (Conv2D)         (None, 28, 28, 128)  147584      activation_17[0][0]              \n",
            "__________________________________________________________________________________________________\n",
            "bn3c_branch2b (BatchNormalizati (None, 28, 28, 128)  512         res3c_branch2b[0][0]             \n",
            "__________________________________________________________________________________________________\n",
            "activation_18 (Activation)      (None, 28, 28, 128)  0           bn3c_branch2b[0][0]              \n",
            "__________________________________________________________________________________________________\n",
            "res3c_branch2c (Conv2D)         (None, 28, 28, 512)  66048       activation_18[0][0]              \n",
            "__________________________________________________________________________________________________\n",
            "bn3c_branch2c (BatchNormalizati (None, 28, 28, 512)  2048        res3c_branch2c[0][0]             \n",
            "__________________________________________________________________________________________________\n",
            "add_6 (Add)                     (None, 28, 28, 512)  0           bn3c_branch2c[0][0]              \n",
            "                                                                 activation_16[0][0]              \n",
            "__________________________________________________________________________________________________\n",
            "activation_19 (Activation)      (None, 28, 28, 512)  0           add_6[0][0]                      \n",
            "__________________________________________________________________________________________________\n",
            "res3d_branch2a (Conv2D)         (None, 28, 28, 128)  65664       activation_19[0][0]              \n",
            "__________________________________________________________________________________________________\n",
            "bn3d_branch2a (BatchNormalizati (None, 28, 28, 128)  512         res3d_branch2a[0][0]             \n",
            "__________________________________________________________________________________________________\n",
            "activation_20 (Activation)      (None, 28, 28, 128)  0           bn3d_branch2a[0][0]              \n",
            "__________________________________________________________________________________________________\n",
            "res3d_branch2b (Conv2D)         (None, 28, 28, 128)  147584      activation_20[0][0]              \n",
            "__________________________________________________________________________________________________\n",
            "bn3d_branch2b (BatchNormalizati (None, 28, 28, 128)  512         res3d_branch2b[0][0]             \n",
            "__________________________________________________________________________________________________\n",
            "activation_21 (Activation)      (None, 28, 28, 128)  0           bn3d_branch2b[0][0]              \n",
            "__________________________________________________________________________________________________\n",
            "res3d_branch2c (Conv2D)         (None, 28, 28, 512)  66048       activation_21[0][0]              \n",
            "__________________________________________________________________________________________________\n",
            "bn3d_branch2c (BatchNormalizati (None, 28, 28, 512)  2048        res3d_branch2c[0][0]             \n",
            "__________________________________________________________________________________________________\n",
            "add_7 (Add)                     (None, 28, 28, 512)  0           bn3d_branch2c[0][0]              \n",
            "                                                                 activation_19[0][0]              \n",
            "__________________________________________________________________________________________________\n",
            "activation_22 (Activation)      (None, 28, 28, 512)  0           add_7[0][0]                      \n",
            "__________________________________________________________________________________________________\n",
            "res4a_branch2a (Conv2D)         (None, 14, 14, 256)  131328      activation_22[0][0]              \n",
            "__________________________________________________________________________________________________\n",
            "bn4a_branch2a (BatchNormalizati (None, 14, 14, 256)  1024        res4a_branch2a[0][0]             \n",
            "__________________________________________________________________________________________________\n",
            "activation_23 (Activation)      (None, 14, 14, 256)  0           bn4a_branch2a[0][0]              \n",
            "__________________________________________________________________________________________________\n",
            "res4a_branch2b (Conv2D)         (None, 14, 14, 256)  590080      activation_23[0][0]              \n",
            "__________________________________________________________________________________________________\n",
            "bn4a_branch2b (BatchNormalizati (None, 14, 14, 256)  1024        res4a_branch2b[0][0]             \n",
            "__________________________________________________________________________________________________\n",
            "activation_24 (Activation)      (None, 14, 14, 256)  0           bn4a_branch2b[0][0]              \n",
            "__________________________________________________________________________________________________\n",
            "res4a_branch2c (Conv2D)         (None, 14, 14, 1024) 263168      activation_24[0][0]              \n",
            "__________________________________________________________________________________________________\n",
            "res4a_branch1 (Conv2D)          (None, 14, 14, 1024) 525312      activation_22[0][0]              \n",
            "__________________________________________________________________________________________________\n",
            "bn4a_branch2c (BatchNormalizati (None, 14, 14, 1024) 4096        res4a_branch2c[0][0]             \n",
            "__________________________________________________________________________________________________\n",
            "bn4a_branch1 (BatchNormalizatio (None, 14, 14, 1024) 4096        res4a_branch1[0][0]              \n",
            "__________________________________________________________________________________________________\n",
            "add_8 (Add)                     (None, 14, 14, 1024) 0           bn4a_branch2c[0][0]              \n",
            "                                                                 bn4a_branch1[0][0]               \n",
            "__________________________________________________________________________________________________\n",
            "activation_25 (Activation)      (None, 14, 14, 1024) 0           add_8[0][0]                      \n",
            "__________________________________________________________________________________________________\n",
            "res4b_branch2a (Conv2D)         (None, 14, 14, 256)  262400      activation_25[0][0]              \n",
            "__________________________________________________________________________________________________\n",
            "bn4b_branch2a (BatchNormalizati (None, 14, 14, 256)  1024        res4b_branch2a[0][0]             \n",
            "__________________________________________________________________________________________________\n",
            "activation_26 (Activation)      (None, 14, 14, 256)  0           bn4b_branch2a[0][0]              \n",
            "__________________________________________________________________________________________________\n",
            "res4b_branch2b (Conv2D)         (None, 14, 14, 256)  590080      activation_26[0][0]              \n",
            "__________________________________________________________________________________________________\n",
            "bn4b_branch2b (BatchNormalizati (None, 14, 14, 256)  1024        res4b_branch2b[0][0]             \n",
            "__________________________________________________________________________________________________\n",
            "activation_27 (Activation)      (None, 14, 14, 256)  0           bn4b_branch2b[0][0]              \n",
            "__________________________________________________________________________________________________\n",
            "res4b_branch2c (Conv2D)         (None, 14, 14, 1024) 263168      activation_27[0][0]              \n",
            "__________________________________________________________________________________________________\n",
            "bn4b_branch2c (BatchNormalizati (None, 14, 14, 1024) 4096        res4b_branch2c[0][0]             \n",
            "__________________________________________________________________________________________________\n",
            "add_9 (Add)                     (None, 14, 14, 1024) 0           bn4b_branch2c[0][0]              \n",
            "                                                                 activation_25[0][0]              \n",
            "__________________________________________________________________________________________________\n",
            "activation_28 (Activation)      (None, 14, 14, 1024) 0           add_9[0][0]                      \n",
            "__________________________________________________________________________________________________\n",
            "res4c_branch2a (Conv2D)         (None, 14, 14, 256)  262400      activation_28[0][0]              \n",
            "__________________________________________________________________________________________________\n",
            "bn4c_branch2a (BatchNormalizati (None, 14, 14, 256)  1024        res4c_branch2a[0][0]             \n",
            "__________________________________________________________________________________________________\n",
            "activation_29 (Activation)      (None, 14, 14, 256)  0           bn4c_branch2a[0][0]              \n",
            "__________________________________________________________________________________________________\n",
            "res4c_branch2b (Conv2D)         (None, 14, 14, 256)  590080      activation_29[0][0]              \n",
            "__________________________________________________________________________________________________\n",
            "bn4c_branch2b (BatchNormalizati (None, 14, 14, 256)  1024        res4c_branch2b[0][0]             \n",
            "__________________________________________________________________________________________________\n",
            "activation_30 (Activation)      (None, 14, 14, 256)  0           bn4c_branch2b[0][0]              \n",
            "__________________________________________________________________________________________________\n",
            "res4c_branch2c (Conv2D)         (None, 14, 14, 1024) 263168      activation_30[0][0]              \n",
            "__________________________________________________________________________________________________\n",
            "bn4c_branch2c (BatchNormalizati (None, 14, 14, 1024) 4096        res4c_branch2c[0][0]             \n",
            "__________________________________________________________________________________________________\n",
            "add_10 (Add)                    (None, 14, 14, 1024) 0           bn4c_branch2c[0][0]              \n",
            "                                                                 activation_28[0][0]              \n",
            "__________________________________________________________________________________________________\n",
            "activation_31 (Activation)      (None, 14, 14, 1024) 0           add_10[0][0]                     \n",
            "__________________________________________________________________________________________________\n",
            "res4d_branch2a (Conv2D)         (None, 14, 14, 256)  262400      activation_31[0][0]              \n",
            "__________________________________________________________________________________________________\n",
            "bn4d_branch2a (BatchNormalizati (None, 14, 14, 256)  1024        res4d_branch2a[0][0]             \n",
            "__________________________________________________________________________________________________\n",
            "activation_32 (Activation)      (None, 14, 14, 256)  0           bn4d_branch2a[0][0]              \n",
            "__________________________________________________________________________________________________\n",
            "res4d_branch2b (Conv2D)         (None, 14, 14, 256)  590080      activation_32[0][0]              \n",
            "__________________________________________________________________________________________________\n",
            "bn4d_branch2b (BatchNormalizati (None, 14, 14, 256)  1024        res4d_branch2b[0][0]             \n",
            "__________________________________________________________________________________________________\n",
            "activation_33 (Activation)      (None, 14, 14, 256)  0           bn4d_branch2b[0][0]              \n",
            "__________________________________________________________________________________________________\n",
            "res4d_branch2c (Conv2D)         (None, 14, 14, 1024) 263168      activation_33[0][0]              \n",
            "__________________________________________________________________________________________________\n",
            "bn4d_branch2c (BatchNormalizati (None, 14, 14, 1024) 4096        res4d_branch2c[0][0]             \n",
            "__________________________________________________________________________________________________\n",
            "add_11 (Add)                    (None, 14, 14, 1024) 0           bn4d_branch2c[0][0]              \n",
            "                                                                 activation_31[0][0]              \n",
            "__________________________________________________________________________________________________\n",
            "activation_34 (Activation)      (None, 14, 14, 1024) 0           add_11[0][0]                     \n",
            "__________________________________________________________________________________________________\n",
            "res4e_branch2a (Conv2D)         (None, 14, 14, 256)  262400      activation_34[0][0]              \n",
            "__________________________________________________________________________________________________\n",
            "bn4e_branch2a (BatchNormalizati (None, 14, 14, 256)  1024        res4e_branch2a[0][0]             \n",
            "__________________________________________________________________________________________________\n",
            "activation_35 (Activation)      (None, 14, 14, 256)  0           bn4e_branch2a[0][0]              \n",
            "__________________________________________________________________________________________________\n",
            "res4e_branch2b (Conv2D)         (None, 14, 14, 256)  590080      activation_35[0][0]              \n",
            "__________________________________________________________________________________________________\n",
            "bn4e_branch2b (BatchNormalizati (None, 14, 14, 256)  1024        res4e_branch2b[0][0]             \n",
            "__________________________________________________________________________________________________\n",
            "activation_36 (Activation)      (None, 14, 14, 256)  0           bn4e_branch2b[0][0]              \n",
            "__________________________________________________________________________________________________\n",
            "res4e_branch2c (Conv2D)         (None, 14, 14, 1024) 263168      activation_36[0][0]              \n",
            "__________________________________________________________________________________________________\n",
            "bn4e_branch2c (BatchNormalizati (None, 14, 14, 1024) 4096        res4e_branch2c[0][0]             \n",
            "__________________________________________________________________________________________________\n",
            "add_12 (Add)                    (None, 14, 14, 1024) 0           bn4e_branch2c[0][0]              \n",
            "                                                                 activation_34[0][0]              \n",
            "__________________________________________________________________________________________________\n",
            "activation_37 (Activation)      (None, 14, 14, 1024) 0           add_12[0][0]                     \n",
            "__________________________________________________________________________________________________\n",
            "res4f_branch2a (Conv2D)         (None, 14, 14, 256)  262400      activation_37[0][0]              \n",
            "__________________________________________________________________________________________________\n",
            "bn4f_branch2a (BatchNormalizati (None, 14, 14, 256)  1024        res4f_branch2a[0][0]             \n",
            "__________________________________________________________________________________________________\n",
            "activation_38 (Activation)      (None, 14, 14, 256)  0           bn4f_branch2a[0][0]              \n",
            "__________________________________________________________________________________________________\n",
            "res4f_branch2b (Conv2D)         (None, 14, 14, 256)  590080      activation_38[0][0]              \n",
            "__________________________________________________________________________________________________\n",
            "bn4f_branch2b (BatchNormalizati (None, 14, 14, 256)  1024        res4f_branch2b[0][0]             \n",
            "__________________________________________________________________________________________________\n",
            "activation_39 (Activation)      (None, 14, 14, 256)  0           bn4f_branch2b[0][0]              \n",
            "__________________________________________________________________________________________________\n",
            "res4f_branch2c (Conv2D)         (None, 14, 14, 1024) 263168      activation_39[0][0]              \n",
            "__________________________________________________________________________________________________\n",
            "bn4f_branch2c (BatchNormalizati (None, 14, 14, 1024) 4096        res4f_branch2c[0][0]             \n",
            "__________________________________________________________________________________________________\n",
            "add_13 (Add)                    (None, 14, 14, 1024) 0           bn4f_branch2c[0][0]              \n",
            "                                                                 activation_37[0][0]              \n",
            "__________________________________________________________________________________________________\n",
            "activation_40 (Activation)      (None, 14, 14, 1024) 0           add_13[0][0]                     \n",
            "__________________________________________________________________________________________________\n",
            "res5a_branch2a (Conv2D)         (None, 7, 7, 512)    524800      activation_40[0][0]              \n",
            "__________________________________________________________________________________________________\n",
            "bn5a_branch2a (BatchNormalizati (None, 7, 7, 512)    2048        res5a_branch2a[0][0]             \n",
            "__________________________________________________________________________________________________\n",
            "activation_41 (Activation)      (None, 7, 7, 512)    0           bn5a_branch2a[0][0]              \n",
            "__________________________________________________________________________________________________\n",
            "res5a_branch2b (Conv2D)         (None, 7, 7, 512)    2359808     activation_41[0][0]              \n",
            "__________________________________________________________________________________________________\n",
            "bn5a_branch2b (BatchNormalizati (None, 7, 7, 512)    2048        res5a_branch2b[0][0]             \n",
            "__________________________________________________________________________________________________\n",
            "activation_42 (Activation)      (None, 7, 7, 512)    0           bn5a_branch2b[0][0]              \n",
            "__________________________________________________________________________________________________\n",
            "res5a_branch2c (Conv2D)         (None, 7, 7, 2048)   1050624     activation_42[0][0]              \n",
            "__________________________________________________________________________________________________\n",
            "res5a_branch1 (Conv2D)          (None, 7, 7, 2048)   2099200     activation_40[0][0]              \n",
            "__________________________________________________________________________________________________\n",
            "bn5a_branch2c (BatchNormalizati (None, 7, 7, 2048)   8192        res5a_branch2c[0][0]             \n",
            "__________________________________________________________________________________________________\n",
            "bn5a_branch1 (BatchNormalizatio (None, 7, 7, 2048)   8192        res5a_branch1[0][0]              \n",
            "__________________________________________________________________________________________________\n",
            "add_14 (Add)                    (None, 7, 7, 2048)   0           bn5a_branch2c[0][0]              \n",
            "                                                                 bn5a_branch1[0][0]               \n",
            "__________________________________________________________________________________________________\n",
            "activation_43 (Activation)      (None, 7, 7, 2048)   0           add_14[0][0]                     \n",
            "__________________________________________________________________________________________________\n",
            "res5b_branch2a (Conv2D)         (None, 7, 7, 512)    1049088     activation_43[0][0]              \n",
            "__________________________________________________________________________________________________\n",
            "bn5b_branch2a (BatchNormalizati (None, 7, 7, 512)    2048        res5b_branch2a[0][0]             \n",
            "__________________________________________________________________________________________________\n",
            "activation_44 (Activation)      (None, 7, 7, 512)    0           bn5b_branch2a[0][0]              \n",
            "__________________________________________________________________________________________________\n",
            "res5b_branch2b (Conv2D)         (None, 7, 7, 512)    2359808     activation_44[0][0]              \n",
            "__________________________________________________________________________________________________\n",
            "bn5b_branch2b (BatchNormalizati (None, 7, 7, 512)    2048        res5b_branch2b[0][0]             \n",
            "__________________________________________________________________________________________________\n",
            "activation_45 (Activation)      (None, 7, 7, 512)    0           bn5b_branch2b[0][0]              \n",
            "__________________________________________________________________________________________________\n",
            "res5b_branch2c (Conv2D)         (None, 7, 7, 2048)   1050624     activation_45[0][0]              \n",
            "__________________________________________________________________________________________________\n",
            "bn5b_branch2c (BatchNormalizati (None, 7, 7, 2048)   8192        res5b_branch2c[0][0]             \n",
            "__________________________________________________________________________________________________\n",
            "add_15 (Add)                    (None, 7, 7, 2048)   0           bn5b_branch2c[0][0]              \n",
            "                                                                 activation_43[0][0]              \n",
            "__________________________________________________________________________________________________\n",
            "activation_46 (Activation)      (None, 7, 7, 2048)   0           add_15[0][0]                     \n",
            "__________________________________________________________________________________________________\n",
            "res5c_branch2a (Conv2D)         (None, 7, 7, 512)    1049088     activation_46[0][0]              \n",
            "__________________________________________________________________________________________________\n",
            "bn5c_branch2a (BatchNormalizati (None, 7, 7, 512)    2048        res5c_branch2a[0][0]             \n",
            "__________________________________________________________________________________________________\n",
            "activation_47 (Activation)      (None, 7, 7, 512)    0           bn5c_branch2a[0][0]              \n",
            "__________________________________________________________________________________________________\n",
            "res5c_branch2b (Conv2D)         (None, 7, 7, 512)    2359808     activation_47[0][0]              \n",
            "__________________________________________________________________________________________________\n",
            "bn5c_branch2b (BatchNormalizati (None, 7, 7, 512)    2048        res5c_branch2b[0][0]             \n",
            "__________________________________________________________________________________________________\n",
            "activation_48 (Activation)      (None, 7, 7, 512)    0           bn5c_branch2b[0][0]              \n",
            "__________________________________________________________________________________________________\n",
            "res5c_branch2c (Conv2D)         (None, 7, 7, 2048)   1050624     activation_48[0][0]              \n",
            "__________________________________________________________________________________________________\n",
            "bn5c_branch2c (BatchNormalizati (None, 7, 7, 2048)   8192        res5c_branch2c[0][0]             \n",
            "__________________________________________________________________________________________________\n",
            "add_16 (Add)                    (None, 7, 7, 2048)   0           bn5c_branch2c[0][0]              \n",
            "                                                                 activation_46[0][0]              \n",
            "__________________________________________________________________________________________________\n",
            "activation_49 (Activation)      (None, 7, 7, 2048)   0           add_16[0][0]                     \n",
            "__________________________________________________________________________________________________\n",
            "avg_pool (GlobalAveragePooling2 (None, 2048)         0           activation_49[0][0]              \n",
            "__________________________________________________________________________________________________\n",
            "fc1000 (Dense)                  (None, 1000)         2049000     avg_pool[0][0]                   \n",
            "==================================================================================================\n",
            "Total params: 25,636,712\n",
            "Trainable params: 25,583,592\n",
            "Non-trainable params: 53,120\n",
            "__________________________________________________________________________________________________\n"
          ],
          "name": "stdout"
        }
      ]
    },
    {
      "cell_type": "code",
      "metadata": {
        "id": "b9BF10ORX-DL",
        "colab_type": "code",
        "colab": {}
      },
      "source": [
        "from keras.models import Model\n",
        "model_new = Model (model.input, model.layers[-2].output)"
      ],
      "execution_count": null,
      "outputs": []
    },
    {
      "cell_type": "code",
      "metadata": {
        "id": "LrFFLIgIYUpZ",
        "colab_type": "code",
        "colab": {}
      },
      "source": [
        "from keras.preprocessing import image\n",
        "import numpy as np\n",
        "\n",
        "def preprocess_image (img):\n",
        "    img = image.load_img(img, target_size=(224, 224))\n",
        "    img = image.img_to_array(img)\n",
        "\n",
        "    # Convert 3D tensor to a 4D tendor\n",
        "    img = np.expand_dims(img, axis=0)\n",
        "\n",
        "    #Normalize image accoring to ResNet50 requirement\n",
        "    img = preprocess_input(img)\n",
        "\n",
        "    return img"
      ],
      "execution_count": null,
      "outputs": []
    },
    {
      "cell_type": "code",
      "metadata": {
        "id": "zP5iYv38Yv3T",
        "colab_type": "code",
        "colab": {
          "base_uri": "https://localhost:8080/",
          "height": 282
        },
        "outputId": "74760611-5911-4687-c696-c5f9f8882a05"
      },
      "source": [
        "import matplotlib.pyplot as plt\n",
        "\n",
        "img = preprocess_image(\"Neural_Image_Caption_Generator/data/Images/1000268201_693b08cb0e.jpg\")\n",
        "print(img.shape)\n",
        "plt.imshow(img[0])\n",
        "plt.axis('off')\n",
        "plt.show()"
      ],
      "execution_count": null,
      "outputs": [
        {
          "output_type": "stream",
          "text": [
            "Clipping input data to the valid range for imshow with RGB data ([0..1] for floats or [0..255] for integers).\n"
          ],
          "name": "stderr"
        },
        {
          "output_type": "stream",
          "text": [
            "(1, 224, 224, 3)\n"
          ],
          "name": "stdout"
        },
        {
          "output_type": "display_data",
          "data": {
            "image/png": "[encoded data removed]",
            "text/plain": [
              "<Figure size 432x288 with 1 Axes>"
            ]
          },
          "metadata": {
            "tags": [],
            "needs_background": "light"
          }
        }
      ]
    },
    {
      "cell_type": "code",
      "metadata": {
        "id": "cGajBDSiZP7O",
        "colab_type": "code",
        "colab": {}
      },
      "source": [
        "# A wrapper function, which inputs an image and returns its encoding (feature vector)\n",
        "def encode_image (img):\n",
        "    img = preprocess_image(img)\n",
        "    feature_vector = model_new.predict(img)\n",
        "\n",
        "    feature_vector = feature_vector.reshape((-1,))\n",
        "    return feature_vector"
      ],
      "execution_count": null,
      "outputs": []
    },
    {
      "cell_type": "code",
      "metadata": {
        "id": "rJ5elpspf6sP",
        "colab_type": "code",
        "colab": {
          "base_uri": "https://localhost:8080/",
          "height": 1054
        },
        "outputId": "11ce4f40-1aa3-4d2d-c919-a779098f9759"
      },
      "source": [
        "from time import time\n",
        "\n",
        "train_encoding = {}\n",
        "# Create a dictionary of iamgeID and its feature vector\n",
        "\n",
        "start_time = time()\n",
        "for index, imageID in enumerate (train_data):\n",
        "    image_path = \"Neural_Image_Caption_Generator/data/Images/\" + imageID + \".jpg\"\n",
        "    \n",
        "    train_encoding[imageID] = encode_image(image_path)\n",
        "\n",
        "    # Print progress\n",
        "    if index%100 == 0:\n",
        "        print(\"Encoding in progress... STEP\", index)\n",
        "\n",
        "end_time = time()\n",
        "print(\"Total time taken:\", end_time-start_time, \"sec\")"
      ],
      "execution_count": null,
      "outputs": [
        {
          "output_type": "stream",
          "text": [
            "Encoding in progress... STEP 0\n",
            "Encoding in progress... STEP 100\n",
            "Encoding in progress... STEP 200\n",
            "Encoding in progress... STEP 300\n",
            "Encoding in progress... STEP 400\n",
            "Encoding in progress... STEP 500\n",
            "Encoding in progress... STEP 600\n",
            "Encoding in progress... STEP 700\n",
            "Encoding in progress... STEP 800\n",
            "Encoding in progress... STEP 900\n",
            "Encoding in progress... STEP 1000\n",
            "Encoding in progress... STEP 1100\n",
            "Encoding in progress... STEP 1200\n",
            "Encoding in progress... STEP 1300\n",
            "Encoding in progress... STEP 1400\n",
            "Encoding in progress... STEP 1500\n",
            "Encoding in progress... STEP 1600\n",
            "Encoding in progress... STEP 1700\n",
            "Encoding in progress... STEP 1800\n",
            "Encoding in progress... STEP 1900\n",
            "Encoding in progress... STEP 2000\n",
            "Encoding in progress... STEP 2100\n",
            "Encoding in progress... STEP 2200\n",
            "Encoding in progress... STEP 2300\n",
            "Encoding in progress... STEP 2400\n",
            "Encoding in progress... STEP 2500\n",
            "Encoding in progress... STEP 2600\n",
            "Encoding in progress... STEP 2700\n",
            "Encoding in progress... STEP 2800\n",
            "Encoding in progress... STEP 2900\n",
            "Encoding in progress... STEP 3000\n",
            "Encoding in progress... STEP 3100\n",
            "Encoding in progress... STEP 3200\n",
            "Encoding in progress... STEP 3300\n",
            "Encoding in progress... STEP 3400\n",
            "Encoding in progress... STEP 3500\n",
            "Encoding in progress... STEP 3600\n",
            "Encoding in progress... STEP 3700\n",
            "Encoding in progress... STEP 3800\n",
            "Encoding in progress... STEP 3900\n",
            "Encoding in progress... STEP 4000\n",
            "Encoding in progress... STEP 4100\n",
            "Encoding in progress... STEP 4200\n",
            "Encoding in progress... STEP 4300\n",
            "Encoding in progress... STEP 4400\n",
            "Encoding in progress... STEP 4500\n",
            "Encoding in progress... STEP 4600\n",
            "Encoding in progress... STEP 4700\n",
            "Encoding in progress... STEP 4800\n",
            "Encoding in progress... STEP 4900\n",
            "Encoding in progress... STEP 5000\n",
            "Encoding in progress... STEP 5100\n",
            "Encoding in progress... STEP 5200\n",
            "Encoding in progress... STEP 5300\n",
            "Encoding in progress... STEP 5400\n",
            "Encoding in progress... STEP 5500\n",
            "Encoding in progress... STEP 5600\n",
            "Encoding in progress... STEP 5700\n",
            "Encoding in progress... STEP 5800\n",
            "Encoding in progress... STEP 5900\n",
            "Total time taken: 124.71492505073547 sec\n"
          ],
          "name": "stdout"
        }
      ]
    },
    {
      "cell_type": "code",
      "metadata": {
        "id": "669aLGXrh6u4",
        "colab_type": "code",
        "colab": {}
      },
      "source": [
        "# Store the above computed features on the disk\n",
        "# Use pickle to dump the entire data\n",
        "import pickle\n",
        "\n",
        "with open(\"Neural_Image_Caption_Generator/encoded_train_features.pkl\", \"wb\") as file:\n",
        "    # Pickle allows to store any object as a file on the disk\n",
        "    pickle.dump(train_encoding, file)"
      ],
      "execution_count": null,
      "outputs": []
    },
    {
      "cell_type": "code",
      "metadata": {
        "id": "gczVyLkbjxOR",
        "colab_type": "code",
        "colab": {
          "base_uri": "https://localhost:8080/",
          "height": 204
        },
        "outputId": "fab4ac3a-be5a-40c3-872c-c93c4ac092ae"
      },
      "source": [
        "test_encoding = {}\n",
        "# Create a dictionary of iamgeID and its feature vector\n",
        "\n",
        "start_time = time()\n",
        "for index, imageID in enumerate (test_data):\n",
        "    image_path = \"Neural_Image_Caption_Generator/data/Images/\" + imageID + \".jpg\"\n",
        "    \n",
        "    test_encoding[imageID] = encode_image(image_path)\n",
        "\n",
        "    # Print progress\n",
        "    if index%100 == 0:\n",
        "        print(\"Encoding in progress... STEP\", index)\n",
        "\n",
        "end_time = time()\n",
        "print(\"Total time taken:\", end_time-start_time, \"s\")"
      ],
      "execution_count": null,
      "outputs": [
        {
          "output_type": "stream",
          "text": [
            "Encoding in progress... STEP 0\n",
            "Encoding in progress... STEP 100\n",
            "Encoding in progress... STEP 200\n",
            "Encoding in progress... STEP 300\n",
            "Encoding in progress... STEP 400\n",
            "Encoding in progress... STEP 500\n",
            "Encoding in progress... STEP 600\n",
            "Encoding in progress... STEP 700\n",
            "Encoding in progress... STEP 800\n",
            "Encoding in progress... STEP 900\n",
            "Total time taken: 19.501914739608765 s\n"
          ],
          "name": "stdout"
        }
      ]
    },
    {
      "cell_type": "code",
      "metadata": {
        "id": "A4AUcLctlFoC",
        "colab_type": "code",
        "colab": {}
      },
      "source": [
        "with open(\"encoded_test_features.pkl\", \"wb\") as file:\n",
        "    \n",
        "    pickle.dump(test_encoding, file)"
      ],
      "execution_count": null,
      "outputs": []
    },
    {
      "cell_type": "markdown",
      "metadata": {
        "id": "b69Erxn9jaNn",
        "colab_type": "text"
      },
      "source": [
        "#### Pre-process the Captions"
      ]
    },
    {
      "cell_type": "code",
      "metadata": {
        "id": "UN3ixKADyKGV",
        "colab_type": "code",
        "colab": {}
      },
      "source": [
        "# Create the word-to-index and index-to-word mappings\n",
        "word_to_index = {}\n",
        "index_to_word = {}\n",
        "\n",
        "for i, word in enumerate(total_words):\n",
        "    word_to_index[word] = i+1\n",
        "    index_to_word[i+1] = word"
      ],
      "execution_count": null,
      "outputs": []
    },
    {
      "cell_type": "code",
      "metadata": {
        "id": "EypUHPKBj2la",
        "colab_type": "code",
        "colab": {
          "base_uri": "https://localhost:8080/",
          "height": 34
        },
        "outputId": "40bf41aa-b54d-480d-843c-bb05329c2cd7"
      },
      "source": [
        "print(len(index_to_word))"
      ],
      "execution_count": null,
      "outputs": [
        {
          "output_type": "stream",
          "text": [
            "2644\n"
          ],
          "name": "stdout"
        }
      ]
    },
    {
      "cell_type": "code",
      "metadata": {
        "id": "q5mt8xUFj83Z",
        "colab_type": "code",
        "colab": {
          "base_uri": "https://localhost:8080/",
          "height": 51
        },
        "outputId": "522ee2e7-2bad-4516-f2a5-25e658b9dafc"
      },
      "source": [
        "print(index_to_word[5])\n",
        "print(word_to_index['is'])"
      ],
      "execution_count": null,
      "outputs": [
        {
          "output_type": "stream",
          "text": [
            "is\n",
            "5\n"
          ],
          "name": "stdout"
        }
      ]
    },
    {
      "cell_type": "code",
      "metadata": {
        "id": "TvDVpv7NkBg1",
        "colab_type": "code",
        "colab": {}
      },
      "source": [
        "# Add startseq and endseq also to the mappings\n",
        "index_to_word[2645] = 'startseq'\n",
        "word_to_index['startseq'] = 2645\n",
        "\n",
        "index_to_word[2646] = 'endseq'\n",
        "word_to_index['endseq'] = 2646\n",
        "\n",
        "vocab_size = len(word_to_index) + 1"
      ],
      "execution_count": null,
      "outputs": []
    },
    {
      "cell_type": "code",
      "metadata": {
        "id": "g7Kb1N9Pkets",
        "colab_type": "code",
        "colab": {
          "base_uri": "https://localhost:8080/",
          "height": 34
        },
        "outputId": "25225fce-3244-497c-d8e2-01761749c904"
      },
      "source": [
        "print(vocab_size)"
      ],
      "execution_count": null,
      "outputs": [
        {
          "output_type": "stream",
          "text": [
            "2647\n"
          ],
          "name": "stdout"
        }
      ]
    },
    {
      "cell_type": "code",
      "metadata": {
        "id": "hutToQzWkoHK",
        "colab_type": "code",
        "colab": {}
      },
      "source": [
        "# Get the maximum length of a caption\n",
        "max_len = 0\n",
        "\n",
        "for cap_list in train_content.keys():\n",
        "    for caption in train_content[cap_list]:\n",
        "        max_len = max(max_len, len(caption.split()))"
      ],
      "execution_count": null,
      "outputs": []
    },
    {
      "cell_type": "code",
      "metadata": {
        "id": "4j-XDU0UlATp",
        "colab_type": "code",
        "colab": {
          "base_uri": "https://localhost:8080/",
          "height": 34
        },
        "outputId": "66de50a7-a780-46b6-a7ca-c503346123d5"
      },
      "source": [
        "print(max_len)"
      ],
      "execution_count": null,
      "outputs": [
        {
          "output_type": "stream",
          "text": [
            "38\n"
          ],
          "name": "stdout"
        }
      ]
    },
    {
      "cell_type": "code",
      "metadata": {
        "id": "65ZYQhU2F9gl",
        "colab_type": "code",
        "colab": {}
      },
      "source": [
        "file = open(\"drive/My Drive/Personal/Image Captioning Project/glove.6B.50d.txt\",encoding='utf8')"
      ],
      "execution_count": null,
      "outputs": []
    },
    {
      "cell_type": "code",
      "metadata": {
        "id": "KnFk1-GQrOLi",
        "colab_type": "code",
        "colab": {}
      },
      "source": [
        "# Create a mapping from word to word_embedding\n",
        "embedding_index = {}\n",
        "\n",
        "for line in file:\n",
        "    values = line.split()\n",
        "\n",
        "    word = values[0]\n",
        "    word_embedding = np.array(values[1:],dtype='float')\n",
        "    embedding_index[word] = word_embedding\n",
        "\n",
        "file.close()"
      ],
      "execution_count": null,
      "outputs": []
    },
    {
      "cell_type": "code",
      "metadata": {
        "id": "GYphAPQttyiU",
        "colab_type": "code",
        "colab": {
          "base_uri": "https://localhost:8080/",
          "height": 170
        },
        "outputId": "343b63c4-da85-4f6e-baa1-e33664a6087a"
      },
      "source": [
        "embedding_index[\"apple\"]"
      ],
      "execution_count": null,
      "outputs": [
        {
          "output_type": "execute_result",
          "data": {
            "text/plain": [
              "array([ 0.52042 , -0.8314  ,  0.49961 ,  1.2893  ,  0.1151  ,  0.057521,\n",
              "       -1.3753  , -0.97313 ,  0.18346 ,  0.47672 , -0.15112 ,  0.35532 ,\n",
              "        0.25912 , -0.77857 ,  0.52181 ,  0.47695 , -1.4251  ,  0.858   ,\n",
              "        0.59821 , -1.0903  ,  0.33574 , -0.60891 ,  0.41742 ,  0.21569 ,\n",
              "       -0.07417 , -0.5822  , -0.4502  ,  0.17253 ,  0.16448 , -0.38413 ,\n",
              "        2.3283  , -0.66682 , -0.58181 ,  0.74389 ,  0.095015, -0.47865 ,\n",
              "       -0.84591 ,  0.38704 ,  0.23693 , -1.5523  ,  0.64802 , -0.16521 ,\n",
              "       -1.4719  , -0.16224 ,  0.79857 ,  0.97391 ,  0.40027 , -0.21912 ,\n",
              "       -0.30938 ,  0.26581 ])"
            ]
          },
          "metadata": {
            "tags": []
          },
          "execution_count": 46
        }
      ]
    },
    {
      "cell_type": "code",
      "metadata": {
        "id": "V-JlXgO2uJ6B",
        "colab_type": "code",
        "colab": {}
      },
      "source": [
        "def get_embedding_matrix():\n",
        "    EMBEDDING_DIM = 50\n",
        "    embedding_matrix = np.zeros((vocab_size, EMBEDDING_DIM))\n",
        "\n",
        "    for word, index in word_to_index.items():\n",
        "        embedding_vector = embedding_index.get(word)\n",
        "\n",
        "        if embedding_vector is not None:\n",
        "            embedding_matrix[index] = embedding_vector\n",
        "\n",
        "    return embedding_matrix"
      ],
      "execution_count": null,
      "outputs": []
    },
    {
      "cell_type": "code",
      "metadata": {
        "id": "PcmdI0KCvGfL",
        "colab_type": "code",
        "colab": {
          "base_uri": "https://localhost:8080/",
          "height": 34
        },
        "outputId": "d3100122-5758-4ac7-d265-5aaf6ab06c08"
      },
      "source": [
        "embedding_matrix = get_embedding_matrix()\n",
        "print(embedding_matrix.shape)"
      ],
      "execution_count": null,
      "outputs": [
        {
          "output_type": "stream",
          "text": [
            "(2647, 50)\n"
          ],
          "name": "stdout"
        }
      ]
    },
    {
      "cell_type": "markdown",
      "metadata": {
        "id": "VwQGc5AKm4LU",
        "colab_type": "text"
      },
      "source": [
        "### Define Model Architecture\n",
        "##### Build a Neural Network using Keras Functional API"
      ]
    },
    {
      "cell_type": "code",
      "metadata": {
        "id": "P48UHX3gvNoH",
        "colab_type": "code",
        "colab": {}
      },
      "source": [
        "from keras.layers import Input, Dense, Dropout, Embedding, LSTM\n",
        "\n",
        "#Convert feature vector of image to smaller vector\n",
        "\n",
        "#Output of ResNEt goes into following input layer \n",
        "inp_img_features = Input(shape=(2048,))\n",
        "\n",
        "inp_img1 = Dropout(0.3)(inp_img_features)\n",
        "inp_img2 = Dense(256, activation='relu')(inp_img1)"
      ],
      "execution_count": null,
      "outputs": []
    },
    {
      "cell_type": "code",
      "metadata": {
        "id": "uSGIXvpIm_PR",
        "colab_type": "code",
        "colab": {}
      },
      "source": [
        "#Now take Captions as input\n",
        "\n",
        "#Actual input size will be (batch_size x max_length_of_caption)\n",
        "#But here we specify only only for one example\n",
        "inp_cap = Input(shape=(max_len,))\n",
        "inp_cap1 = Embedding(input_dim=vocab_size, output_dim=50, mask_zero=True)(inp_cap)\n",
        "inp_cap2 = Dropout(0.3)(inp_cap1)\n",
        "inp_cap3 = LSTM(256)(inp_cap2)\n",
        "# inp_cap3 essentially captures the entire sentence that has been generated till now"
      ],
      "execution_count": null,
      "outputs": []
    },
    {
      "cell_type": "code",
      "metadata": {
        "id": "-JLewgk1nAen",
        "colab_type": "code",
        "colab": {}
      },
      "source": [
        "from keras.layers.merge import add\n",
        "\n",
        "# Decode the inputs\n",
        "\n",
        "# So essentially, an image (224x224x3) goes through ResNet50\n",
        "# Then as 2048 dimensional it goes through the above earlier architecture\n",
        "# The final output is inp_img2 (256 dimensional) which now goes through the Decoder \n",
        "\n",
        "# Similarly for the captions which initially have shape (batch_size x max_len)\n",
        "# Then after passing through Embedding layer comes out as (batch_size x max_len x 50(embedding_size)))\n",
        "# Then it passes through the above LSTM layer and comes out as inp_cap3 (a 256 dimensional vector)\n",
        "\n",
        "# Add the two above tensors\n",
        "decoder1 = add([inp_img2, inp_cap3])\n",
        "decoder2 = Dense(256, activation='relu')(decoder1)\n",
        "outputs = Dense(vocab_size, activation='softmax')(decoder2)\n",
        "\n",
        "# Combined model\n",
        "model = Model (inputs=[inp_img_features, inp_cap], outputs=outputs)"
      ],
      "execution_count": null,
      "outputs": []
    },
    {
      "cell_type": "code",
      "metadata": {
        "id": "zEZpiL5qnAm8",
        "colab_type": "code",
        "colab": {
          "base_uri": "https://localhost:8080/",
          "height": 510
        },
        "outputId": "9235809f-9b37-4623-ac4c-382df308c721"
      },
      "source": [
        "model.summary()"
      ],
      "execution_count": null,
      "outputs": [
        {
          "output_type": "stream",
          "text": [
            "Model: \"model_2\"\n",
            "__________________________________________________________________________________________________\n",
            "Layer (type)                    Output Shape         Param #     Connected to                     \n",
            "==================================================================================================\n",
            "input_5 (InputLayer)            (None, 38)           0                                            \n",
            "__________________________________________________________________________________________________\n",
            "input_3 (InputLayer)            (None, 2048)         0                                            \n",
            "__________________________________________________________________________________________________\n",
            "embedding_2 (Embedding)         (None, 38, 50)       132350      input_5[0][0]                    \n",
            "__________________________________________________________________________________________________\n",
            "dropout_2 (Dropout)             (None, 2048)         0           input_3[0][0]                    \n",
            "__________________________________________________________________________________________________\n",
            "dropout_4 (Dropout)             (None, 38, 50)       0           embedding_2[0][0]                \n",
            "__________________________________________________________________________________________________\n",
            "dense_2 (Dense)                 (None, 256)          524544      dropout_2[0][0]                  \n",
            "__________________________________________________________________________________________________\n",
            "lstm_2 (LSTM)                   (None, 256)          314368      dropout_4[0][0]                  \n",
            "__________________________________________________________________________________________________\n",
            "add_17 (Add)                    (None, 256)          0           dense_2[0][0]                    \n",
            "                                                                 lstm_2[0][0]                     \n",
            "__________________________________________________________________________________________________\n",
            "dense_3 (Dense)                 (None, 256)          65792       add_17[0][0]                     \n",
            "__________________________________________________________________________________________________\n",
            "dense_4 (Dense)                 (None, 2647)         680279      dense_3[0][0]                    \n",
            "==================================================================================================\n",
            "Total params: 1,717,333\n",
            "Trainable params: 1,717,333\n",
            "Non-trainable params: 0\n",
            "__________________________________________________________________________________________________\n"
          ],
          "name": "stdout"
        }
      ]
    },
    {
      "cell_type": "code",
      "metadata": {
        "id": "6jy7OPgxnPCq",
        "colab_type": "code",
        "colab": {}
      },
      "source": [
        "# Preinitialise Embedding layer\n",
        "model.layers[2].set_weights([embedding_matrix])\n",
        "model.layers[2].trainable = False"
      ],
      "execution_count": null,
      "outputs": []
    },
    {
      "cell_type": "code",
      "metadata": {
        "id": "gwPxw1DynRgb",
        "colab_type": "code",
        "colab": {}
      },
      "source": [
        "model.compile(loss=\"categorical_crossentropy\", optimizer=\"adam\")"
      ],
      "execution_count": null,
      "outputs": []
    },
    {
      "cell_type": "markdown",
      "metadata": {
        "id": "9DTgZ8qzC3ay",
        "colab_type": "text"
      },
      "source": [
        "#### Create a Data Loader"
      ]
    },
    {
      "cell_type": "code",
      "metadata": {
        "id": "aPPEZ_2ElCHl",
        "colab_type": "code",
        "colab": {}
      },
      "source": [
        "from keras.preprocessing.sequence import pad_sequences\n",
        "from keras.utils import to_categorical\n",
        "\n",
        "def data_generator (train_content, train_encoding, word_to_index, max_len, batch_size):\n",
        "    X1, X2, y = [], [], []\n",
        "    n = 0\n",
        "\n",
        "    while True:\n",
        "        for imageID, cap_list in train_content.items():\n",
        "            n += 1\n",
        "\n",
        "            image = train_encoding [imageID]\n",
        "\n",
        "            for caption in cap_list:\n",
        "                idx_seq = [word_to_index[word] for word in caption.split() if word in word_to_index]\n",
        "\n",
        "                for i in range (1, len(idx_seq)):\n",
        "                    xi = idx_seq[0 : i] # The input sequence of words\n",
        "                    yi = idx_seq[i] # The next word after the above sequence (this is expected to be predicted)\n",
        "\n",
        "                    # Add a padding of zeros ao lengths of input sequences become equal\n",
        "                    xi = pad_sequences([xi], maxlen=max_len, value=0, padding='post')[0] # Take the first row only, since this method inputs & returns a 2D array\n",
        "                    # Convert the expected word to One Hot vector notation\n",
        "                    yi = to_categorical([yi], num_classes=vocab_size)[0]\n",
        "\n",
        "                    X1.append(image)\n",
        "                    X2.append(xi)\n",
        "                    y.append(yi)\n",
        "\n",
        "                if n==batch_size:\n",
        "                    yield [[np.array(X1), np.array(X2)], np.array(y)]\n",
        "                    \n",
        "                    X1, X2, y = [], [], []\n",
        "                    n=0     "
      ],
      "execution_count": null,
      "outputs": []
    },
    {
      "cell_type": "markdown",
      "metadata": {
        "id": "H4cDvc3FnV1k",
        "colab_type": "text"
      },
      "source": [
        "### Train Model"
      ]
    },
    {
      "cell_type": "code",
      "metadata": {
        "id": "qv-lAE_OnRjj",
        "colab_type": "code",
        "colab": {}
      },
      "source": [
        "epochs = 20\n",
        "batch_size = 3\n",
        "steps = len(train_content)//batch_size "
      ],
      "execution_count": null,
      "outputs": []
    },
    {
      "cell_type": "code",
      "metadata": {
        "id": "lCGmL0cenRmi",
        "colab_type": "code",
        "colab": {
          "base_uri": "https://localhost:8080/",
          "height": 697
        },
        "outputId": "19ec3788-7ea7-4fef-f9a9-f5d3d4c3cdb6"
      },
      "source": [
        "for i in range(epochs):\n",
        "    # Create an instance of the generator\n",
        "    generator = data_generator(train_content, train_encoding, word_to_index, max_len, batch_size)\n",
        "    model.fit_generator(generator, steps_per_epoch=steps)\n",
        "    model.save('model_' + str(i) + '.h5')"
      ],
      "execution_count": null,
      "outputs": [
        {
          "output_type": "stream",
          "text": [
            "Epoch 1/1\n",
            "2000/2000 [==============================] - 192s 96ms/step - loss: 3.9762\n",
            "Epoch 1/1\n",
            "2000/2000 [==============================] - 192s 96ms/step - loss: 3.2665\n",
            "Epoch 1/1\n",
            "2000/2000 [==============================] - 193s 97ms/step - loss: 3.0100\n",
            "Epoch 1/1\n",
            "2000/2000 [==============================] - 206s 103ms/step - loss: 2.8537\n",
            "Epoch 1/1\n",
            "2000/2000 [==============================] - 209s 105ms/step - loss: 2.7408\n",
            "Epoch 1/1\n",
            "2000/2000 [==============================] - 208s 104ms/step - loss: 2.6578\n",
            "Epoch 1/1\n",
            "2000/2000 [==============================] - 205s 102ms/step - loss: 2.5906\n",
            "Epoch 1/1\n",
            "2000/2000 [==============================] - 195s 97ms/step - loss: 2.5347\n",
            "Epoch 1/1\n",
            "2000/2000 [==============================] - 193s 96ms/step - loss: 2.4883\n",
            "Epoch 1/1\n",
            "2000/2000 [==============================] - 193s 96ms/step - loss: 2.4506\n",
            "Epoch 1/1\n",
            "2000/2000 [==============================] - 195s 97ms/step - loss: 2.4191\n",
            "Epoch 1/1\n",
            "2000/2000 [==============================] - 190s 95ms/step - loss: 2.3892\n",
            "Epoch 1/1\n",
            "2000/2000 [==============================] - 190s 95ms/step - loss: 2.3636\n",
            "Epoch 1/1\n",
            "2000/2000 [==============================] - 189s 94ms/step - loss: 2.3425\n",
            "Epoch 1/1\n",
            "2000/2000 [==============================] - 191s 95ms/step - loss: 2.3194\n",
            "Epoch 1/1\n",
            "2000/2000 [==============================] - 195s 97ms/step - loss: 2.3035\n",
            "Epoch 1/1\n",
            "2000/2000 [==============================] - 194s 97ms/step - loss: 2.2845\n",
            "Epoch 1/1\n",
            "2000/2000 [==============================] - 200s 100ms/step - loss: 2.2704\n",
            "Epoch 1/1\n",
            "2000/2000 [==============================] - 200s 100ms/step - loss: 2.2571\n",
            "Epoch 1/1\n",
            "2000/2000 [==============================] - 204s 102ms/step - loss: 2.2444\n"
          ],
          "name": "stdout"
        }
      ]
    },
    {
      "cell_type": "code",
      "metadata": {
        "id": "aaIgWLIbPo4r",
        "colab_type": "code",
        "colab": {}
      },
      "source": [
        ""
      ],
      "execution_count": null,
      "outputs": []
    }
  ]
}